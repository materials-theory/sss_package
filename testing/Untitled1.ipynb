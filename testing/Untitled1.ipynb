{
 "cells": [
  {
   "cell_type": "code",
   "execution_count": 3,
   "metadata": {},
   "outputs": [],
   "source": [
    "import numpy as np\n",
    "import os\n",
    "import matplotlib.pyplot as plt"
   ]
  },
  {
   "cell_type": "code",
   "execution_count": 4,
   "metadata": {},
   "outputs": [],
   "source": [
    "def read_POSCAR(file_name=\"POSCAR\"):\n",
    "\t'''Read structure files of VASP program.\n",
    "    [Input] : file's name. Default=\"POSCAR\"\n",
    "    [Output] : system_name, lattice, cell_vec, species, natoms, coord_type, coord, Selective, selective_tags\n",
    "\t|-> system_name : name of system. @str\n",
    "    |-> lattice : scale @float\n",
    "    |-> cell_vec: [x1, y1, z1], [x2, y2, z2], [x3, y3, z3]] @np.array(dtype='d')\n",
    "    |-> species: [atomt1, atom2, ...] @list(str)\n",
    "    |-> natoms: [number_of_atom1, number_of_atom2, ...] @list(int)\n",
    "\t|-> coord_type: \"DIRECT\" / \"CARTESIAN\" @str\n",
    "\t|-> coord : coordination of each atoms @np.array(dtype='d')\n",
    "    |-> Selective : True / False @bool\n",
    "    |-> selective_tags : [[T/F, T/F, T/F], [T/F, T/F, T/F], ...] @np.array(dtype=str)\n",
    "    '''\n",
    "\tip=open(file_name, 'r')\n",
    "\tsystem_name=ip.readline().strip()\n",
    "\tlattice=float(ip.readline().strip())\n",
    "\t#cell vector\n",
    "\tcell_vec=[]\n",
    "\tfor i in range(3):\n",
    "\t    cell_vec.append(ip.readline().split())\n",
    "\tcell_vec=np.array(cell_vec,dtype=\"d\")\n",
    "\n",
    "\t# atomic information (species, number)\n",
    "\tspecies=ip.readline().split()\n",
    "\tnspecies=len(species)\n",
    "\tnatoms=list(map(lambda x:int(x),ip.readline().split()))\n",
    "\ttot_natoms=sum(natoms)\n",
    "\n",
    "\t# Selective Dynamics & Coord_Type\n",
    "\twhat1=ip.readline().strip()\n",
    "\tif what1.upper().startswith(\"S\"):\n",
    "\t\tSelective=True\n",
    "\t\twhat2=ip.readline().strip()\n",
    "\t\tif what2.upper().startswith(\"D\"):\n",
    "\t\t\tCartesian=False\n",
    "\t\telif what2.upper().startswith(\"F\"):\n",
    "\t\t\tCartesian=False\n",
    "\t\telse:\n",
    "\t\t\tCartesian=True\n",
    "\telse:\n",
    "\t\tSelective=False\n",
    "\t\tif what1.upper().startswith(\"D\"):\n",
    "\t\t\tCartesian=False\n",
    "\t\telif what1.upper().startswith(\"F\"):\n",
    "\t\t\tCartesian=False\n",
    "\t\telse:\n",
    "\t\t\tCartesian=True\n",
    "\tif Cartesian:\n",
    "\t\tcoord_type=\"CARTESIAN\"\n",
    "\telse:\n",
    "\t\tcoord_type=\"DIRECT\"\n",
    "\n",
    "\t# Coordination\n",
    "\tcoord=[]\n",
    "\tselective_tags=[]\n",
    "\tif not(Selective):\n",
    "\t\tfor i in range(tot_natoms):\n",
    "\t\t\tcoord.append(ip.readline().split())\n",
    "\t\ttry:\n",
    "\t\t\tcoord=np.array(coord,dtype=\"d\")\n",
    "\t\texcept:\n",
    "\t\t\traise IOError(\"POSCAR file is weird. In [%s] file, Maybe number of coordinations are not matched with total number of atoms\"%(file_name))\n",
    "\telse:\n",
    "\t\tfor i in range(tot_natoms):\n",
    "\t\t\tline=ip.readline().split()\n",
    "\t\t\tcoord.append(line[0:3])\n",
    "\t\t\tselective_tags.append(line[3:])\n",
    "\t\ttry:\n",
    "\t\t\tcoord=np.array(coord,dtype=\"d\")\n",
    "\t\texcept:\n",
    "\t\t\traise IOError(\"POSCAR file is weird. In [%s] file, Maybe number of coordinations are not matched with total number of atoms\"%(file_name))\n",
    "\t\tselective_tags=np.array(selective_tags,dtype=str)\n",
    "\tip.close()\n",
    "\treturn system_name, lattice, cell_vec, species, natoms, coord_type, coord, Selective, selective_tags\n",
    "\n",
    "def write_POSCAR(output_file, system_name, lattice, cell_vec, species, natoms, coord_type, coord, Selective=False, selective_tags=[]):\n",
    "\t'''Write structure files of VASP program.\n",
    "    [Input] : output_file(name of output file), lattice, cell_vec, species, natoms, coord_type, coord, Selective, selective_tags\n",
    "\t|-> system_name : name of system. @str\n",
    "    |-> lattice : scale @float\n",
    "    |-> cell_vec: [x1, y1, z1], [x2, y2, z2], [x3, y3, z3]] @np.array(dtype='d')\n",
    "    |-> species: [atomt1, atom2, ...] @list(str)\n",
    "    |-> natoms: [number_of_atom1, number_of_atom2, ...] @list(int)\n",
    "\t|-> coord_type: \"DIRECT\" / \"CARTESIAN\" @str\n",
    "\t|-> coord : coordination of each atoms @np.array(dtype='d')\n",
    "    |-> Selective : True / False @bool\n",
    "    |-> selective_tags : [[T/F, T/F, T/F], [T/F, T/F, T/F], ...] @np.array(dtype=str)\n",
    "    [Output] : VASP format structure file.\n",
    "    '''\n",
    "\top=open(output_file,'w')\n",
    "\tprint(system_name,file=op)\n",
    "\tprint(\"   %16.14f\"%(lattice),file=op)\n",
    "\tfor i in range(3):\n",
    "\t    print(\"    %19.16f   %19.16f   %19.16f\"%(cell_vec[i][0],cell_vec[i][1],cell_vec[i][2]),file=op)\n",
    "\n",
    "\tprint(\"\",end=\" \",file=op)\n",
    "\tfor i in range(len(species)):\n",
    "\t    print(\"%4s\"%(species[i]),end=\"\",file=op)\n",
    "\tprint(\"\",file=op)\n",
    "\n",
    "\tfor i in range(len(natoms)):\n",
    "\t    print(\"%6d\"%(natoms[i]),end=\"\",file=op)\n",
    "\tprint(\"\",file=op)\n",
    "\n",
    "\tif Selective:\n",
    "\t    print(\"Selective dynamics\",file=op)\n",
    "\tif coord_type==\"CARTESIAN\":\n",
    "\t    print(\"Cartesian\",file=op)\n",
    "\telse:\n",
    "\t    print(\"Direct\",file=op)\n",
    "\n",
    "\tif Selective:\n",
    "\t    for (x1,y1) in zip(coord,selective_tags):\n",
    "\t        for i in x1:\n",
    "\t            print(\"%20.16f\"%(i),end=\"\",file=op)\n",
    "\t        for p in y1:\n",
    "\t            print(\"%4s\"%(p),end=\"\",file=op)\n",
    "\t        print(\"\",file=op)\n",
    "\telse:\n",
    "\t    for x1 in coord:\n",
    "\t        for i in x1:\n",
    "\t            print(\"%20.16f\"%(i),end=\"\",file=op)\n",
    "\t        print(\"\",file=op)\n",
    "\top.close()\n",
    "\tprint(\"(+) Structure file [%s] was generated\"%(output_file))\n",
    "\n",
    "def dir2car(coord,cell_vec):\n",
    "    '''Direct to Cartesian\n",
    "    [Input] : coord, cell_vec\n",
    "    |-> coord : coordination. @np.array(dtype=\"d\")\n",
    "    |-> cell_vec : cell vector. @np.array(dtype='d')\n",
    "    [Output] : new coordination @np.array(dtype='d')\n",
    "    '''\n",
    "    return np.matmul(coord,cell_vec)\n",
    "\n",
    "def car2dir(coord,cell_vec):\n",
    "    '''Cartesian to Direct\n",
    "    [Input] : coord, cell_vec\n",
    "    |-> coord : coordination. @np.array(dtype='d')\n",
    "    |-> cell_vec : cell vector. @np.array(dtype='d')\n",
    "    [Output] : new coordination @np.array(dtype='d')\n",
    "    '''\n",
    "    inv_cell_vec=np.linalg.inv(cell_vec)\n",
    "    return np.matmul(coord,inv_cell_vec)\n",
    "\n",
    "\n",
    "def extract(object=\"OUTCAR\",property=\"energy\"):\n",
    "\tenergy=\"cat OUTCAR | grep \\\"energy without entropy\\\" | tail -1 | awk '{printf \\\"%10.9f\\\", $5}'\"\n",
    "\tfermi=\"grep fermi OUTCAR | tail -1 | awk '{printf\\\"%20.8f \\\",$3}'\"\n",
    "\tvolume=\"cat OUTCAR | grep volume | tail -1 | awk '{printf \\\"%20.8f\\\",$5}'\"\n",
    "\tif property==\"energy\":\n",
    "\t\t# extract(property=\"energy\")\n",
    "\t\ti=float(subprocess.check_output(energy,shell=True))\n",
    "\telif property==\"fermi\":\n",
    "\t\t# extract(property=\"fermi\")\n",
    "\t\ti=float(subprocess.check_output(fermi,shell=True))\n",
    "\telif property==\"volume\":\n",
    "\t\t# extract(property=\"volume\")\n",
    "\t\ti=float(subprocess.check_output(volume,shell=True))\n",
    "\treturn i\n",
    "\n",
    "def run_vasp(vasp_command):\n",
    "\t'''i=0 means exit 0, which is terminated normally. if not, it should be calculated again'''\n",
    "\ti=subprocess.call(vasp_command,shell=True)\n",
    "\treturn i\n",
    "#cal1_exit=run_vasp(z_opt)\n",
    "\n",
    "\n",
    "def mkdir(dirname):\n",
    "    directory = os.path.dirname(dirname+\"/\")\n",
    "    if not os.path.exists(directory):\n",
    "        os.makedirs(directory)\n",
    "\n",
    "\n",
    "\t#####\n",
    "\n",
    "\t  # def is_converge(self):\n",
    "   #      if self.convergence_info is None or len(self.convergence_info) < 3:\n",
    "   #          return False\n",
    "\n",
    "   #      energies = [x['free_energy'] for x in self.convergence_info]\n",
    "   #      if len(energies) > 2 and abs(max(energies[-3:]) - min(energies[-3:])) >= self.energy_tolerance:\n",
    "   #          return False\n",
    "   #      else:\n",
    "   #          return True\n",
    "\n",
    "def cartesian_strain(cell_vec,xstrain,ystrain):\n",
    "\t'''\n",
    "\t[Input] : cell vector, strain of x and y.\n",
    "\t|---> cell_vec : cell vector @np.array(dtype='d')\n",
    "\t|---> xstrain : applied strain along x directions. 1.00 means no applied strain @float\n",
    "\t|---> ystrain : applied strain along y directions. 1.00 means no applied strain @float\n",
    "\t[Output] : new cell_vector @np.array(dtype='d')\n",
    "\t'''\n",
    "\tcell_vec[0] *= xstrain\n",
    "\tcell_vec[1] *= ystrain\n",
    "\treturn cell_vec\n",
    "\n",
    "\n",
    "def angle_ab(a,b,rad=True,acute=True):\n",
    "\t'''\n",
    "\tCalculate internal angle between first vector (a1,a2,a3) and second vector(b1,b2,b3)\n",
    "\t[Input] a, b, rad, acute\n",
    "\t|---> a : first vector. @list/tuple/np.array\n",
    "\t|---> b : second vector. @list/tuple/np.array\n",
    "\t|---> rad : True means output's unit will be radian. False means output's unit will be degree @bool.\n",
    "\t|---> acute : acute literally means the acute angle. if True : output doens't exceed 90 deg, False doesn't care. @bool\n",
    "\t[Output] : Angles, unit is degree(when rad==False) or radian(when rad==True)\n",
    "\t'''\n",
    "\tfrom math import pi, cos, sin, acos, sqrt\n",
    "\ta1,a2,a3=a; b1,b2,b3=b\n",
    "\tab=acos((a1*b1+a2*b2+a3*b3)/(sqrt(a1**2+a2**2+a3**2)*sqrt(b1**2+b2**2+b3**2)))\n",
    "\tif acute==True:\n",
    "\t    if ab > pi/2:\n",
    "\t          ab=pi-ab\n",
    "\tif rad==True:\n",
    "\t    return ab\n",
    "\telse:\n",
    "\t    return ab/pi*180\n",
    "\n",
    "\n",
    "def diagonal_strain(cell_vec,theta,epsilon):\n",
    "\t'''\n",
    "\t[Input] : cell vector, theta, epsilon\n",
    "\t|---> theta : Angles between applied strain's axis and x axis. Units are degree. 0 means along x axis @float\n",
    "\t|---> epsilon : Amount of applied strain along strain axis. @float\n",
    "\t[Output] : new cell vector @np.array(dtype='d')\n",
    "\t'''\n",
    "\t# from https://github.com/materials-theory/sss_package/blob/master/surface_strain_radian_v0924.py\n",
    "\tfrom math import pi, cos, sin, acos, sqrt\n",
    "\tx1, x2, y1, y2 = cell_vec[0,0], cell_vec[0,1], cell_vec[1,0], cell_vec[1,1]\n",
    "    # we will use radian\n",
    "\ttheta_r=theta*pi/180\n",
    "\n",
    "\t# Defining strain vector (t1,t2,0)\n",
    "\tt1=cos(theta_r)*x1-sin(theta_r)*x2\n",
    "\tt2=sin(theta_r)*x1+cos(theta_r)*x2\n",
    "\tq_x = angle_ab((t1,t2,0),(x1,x2,0),rad=True,acute=True)\n",
    "\tq_y = angle_ab((t1,t2,0),(y1,y2,0),rad=True,acute=True)\n",
    "\tx1_t = (1+epsilon*cos(q_x))*x1\n",
    "\tx2_t = (1+epsilon*cos(q_x))*x2\n",
    "\ty1_t = (1+epsilon*cos(q_y))*y1\n",
    "\ty2_t = (1+epsilon*cos(q_y))*y2\n",
    "\tcell_vec = np.array([(x1_t,x2_t,0),(y1_t,y2_t,0),(0,0,cell_vec[2,2])],dtype='d')\n",
    "\treturn cell_vec\n"
   ]
  },
  {
   "cell_type": "code",
   "execution_count": 11,
   "metadata": {},
   "outputs": [],
   "source": [
    "wp=read_POSCAR(\"1.vasp\")"
   ]
  },
  {
   "cell_type": "code",
   "execution_count": 15,
   "metadata": {},
   "outputs": [
    {
     "data": {
      "text/plain": [
       "20"
      ]
     },
     "execution_count": 15,
     "metadata": {},
     "output_type": "execute_result"
    }
   ],
   "source": [
    "sum(wp[4])"
   ]
  },
  {
   "cell_type": "code",
   "execution_count": 68,
   "metadata": {},
   "outputs": [
    {
     "name": "stdout",
     "output_type": "stream",
     "text": [
      "(+) Structure file [1-C.vasp] was generated\n"
     ]
    }
   ],
   "source": [
    "write_POSCAR(\"1-C.vasp\",wp[0],wp[1],wp[2],wp[3],wp[4],\"CARTESIAN\",dir2car(wp[6],wp[2]))"
   ]
  },
  {
   "cell_type": "code",
   "execution_count": 116,
   "metadata": {},
   "outputs": [],
   "source": [
    "wp2=read_POSCAR(\"1-C.vasp\")"
   ]
  },
  {
   "cell_type": "code",
   "execution_count": 117,
   "metadata": {},
   "outputs": [],
   "source": [
    "coord=wp2[6]"
   ]
  },
  {
   "cell_type": "code",
   "execution_count": 118,
   "metadata": {},
   "outputs": [
    {
     "data": {
      "text/plain": [
       "62.0198426"
      ]
     },
     "execution_count": 118,
     "metadata": {},
     "output_type": "execute_result"
    }
   ],
   "source": [
    "wp2[2][2][2]"
   ]
  },
  {
   "cell_type": "code",
   "execution_count": 127,
   "metadata": {},
   "outputs": [],
   "source": [
    "nlayer=13\n",
    "dlayer=0.5\n",
    "flayer=3"
   ]
  },
  {
   "cell_type": "code",
   "execution_count": 119,
   "metadata": {},
   "outputs": [],
   "source": [
    "#wp2 --> read_POSCAR한 거\n",
    "if wp2[5]==\"DIRECT\":\n",
    "    coord=dir2car(wp2[6],wp2[2])\n",
    "else:\n",
    "    coord=wp[6]\n",
    "for i in range(len(coord[:,2])):\n",
    "    if wp2[2][2][2]-coord[:,2][i]<dlayer:\n",
    "        coord[:,2][i]-=wp2[2][2][2]\n",
    "\n",
    "layers={}\n",
    "\n",
    "# original layer 개수를 al이라는 변수로 받자\n"
   ]
  },
  {
   "cell_type": "code",
   "execution_count": 120,
   "metadata": {},
   "outputs": [
    {
     "data": {
      "text/plain": [
       "array([[ 0.        ,  0.        , 60.31480686],\n",
       "       [ 2.11986101,  1.2233336 ,  0.86540082],\n",
       "       [ 2.11986096,  1.22333358, 11.25021215],\n",
       "       [ 2.11986096,  1.22333358, 21.63502738],\n",
       "       [ 2.11986096,  1.22333358, 32.01984262],\n",
       "       [ 0.        ,  0.        ,  7.78860905],\n",
       "       [ 0.        ,  0.        , 18.17342038],\n",
       "       [ 0.        ,  0.        , 28.55823562],\n",
       "       [ 4.23972154,  2.44666672,  4.32700491],\n",
       "       [ 4.2397217 ,  2.44666679, 14.71181729],\n",
       "       [ 4.2397217 ,  2.44666679, 25.09663246],\n",
       "       [ 4.23972154,  2.44666672,  6.92320681],\n",
       "       [ 4.2397217 ,  2.44666679, 17.3080182 ],\n",
       "       [ 4.2397217 ,  2.44666679, 27.69283343],\n",
       "       [ 2.11986101,  1.2233336 ,  3.46160365],\n",
       "       [ 2.11986096,  1.22333358, 13.84641696],\n",
       "       [ 2.11986096,  1.22333358, 24.23122643],\n",
       "       [ 0.        ,  0.        ,  0.        ],\n",
       "       [ 0.        ,  0.        , 10.38481182],\n",
       "       [ 0.        ,  0.        , 20.76962328],\n",
       "       [ 0.        ,  0.        , 31.15443851]])"
      ]
     },
     "execution_count": 120,
     "metadata": {},
     "output_type": "execute_result"
    }
   ],
   "source": [
    "coord"
   ]
  },
  {
   "cell_type": "code",
   "execution_count": 85,
   "metadata": {},
   "outputs": [],
   "source": [
    "temp_dict={}\n",
    "temp_list=[]\n",
    "tempn=1\n",
    "temp_dict[1]=[]\n",
    "for i in np.argsort(coord[:,2]):\n",
    "    if tempn==1:\n",
    "        temp_dict[tempn].append(i)\n",
    "    else:\n",
    "        if coord[:,2][temp_dict[tempn][0]]+dlayer\n",
    "    if tempn!=1:\n",
    "        temp_list.append(coord[:,2][np.argsort(coord[:,2])[tempn]]-coord[:,2][np.argsort(coord[:,2])[tempn-1]])\n",
    "    tempn+=1"
   ]
  },
  {
   "cell_type": "code",
   "execution_count": 92,
   "metadata": {},
   "outputs": [
    {
     "ename": "TypeError",
     "evalue": "'int' object is not iterable",
     "output_type": "error",
     "traceback": [
      "\u001b[0;31m---------------------------------------------------------------------------\u001b[0m",
      "\u001b[0;31mTypeError\u001b[0m                                 Traceback (most recent call last)",
      "\u001b[0;32m<ipython-input-92-f3eb57252d97>\u001b[0m in \u001b[0;36m<module>\u001b[0;34m\u001b[0m\n\u001b[0;32m----> 1\u001b[0;31m \u001b[0mtemp_dict\u001b[0m\u001b[0;34m[\u001b[0m\u001b[0mtempn\u001b[0m\u001b[0;34m]\u001b[0m\u001b[0;34m=\u001b[0m\u001b[0mlist\u001b[0m\u001b[0;34m(\u001b[0m\u001b[0;36m1\u001b[0m\u001b[0;34m)\u001b[0m\u001b[0;34m\u001b[0m\u001b[0;34m\u001b[0m\u001b[0m\n\u001b[0m",
      "\u001b[0;31mTypeError\u001b[0m: 'int' object is not iterable"
     ]
    }
   ],
   "source": [
    "temp_dict[tempn]=list(1)"
   ]
  },
  {
   "cell_type": "code",
   "execution_count": 90,
   "metadata": {},
   "outputs": [
    {
     "data": {
      "text/plain": [
       "1"
      ]
     },
     "execution_count": 90,
     "metadata": {},
     "output_type": "execute_result"
    }
   ],
   "source": [
    "temp_dict[tempn]"
   ]
  },
  {
   "cell_type": "code",
   "execution_count": null,
   "metadata": {},
   "outputs": [],
   "source": []
  }
 ],
 "metadata": {
  "kernelspec": {
   "display_name": "Python 3",
   "language": "python",
   "name": "python3"
  },
  "language_info": {
   "codemirror_mode": {
    "name": "ipython",
    "version": 3
   },
   "file_extension": ".py",
   "mimetype": "text/x-python",
   "name": "python",
   "nbconvert_exporter": "python",
   "pygments_lexer": "ipython3",
   "version": "3.7.4"
  }
 },
 "nbformat": 4,
 "nbformat_minor": 2
}
